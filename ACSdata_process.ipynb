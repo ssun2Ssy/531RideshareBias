{
 "cells": [
  {
   "cell_type": "code",
   "execution_count": null,
   "id": "28d6d304",
   "metadata": {},
   "outputs": [],
   "source": [
    "import pandas as pd\n",
    "tripdata = pd.read_csv('tripdata_2023-09_new.csv')\n"
   ]
  },
  {
   "cell_type": "code",
   "execution_count": null,
   "id": "1de75c94",
   "metadata": {},
   "outputs": [],
   "source": [
    "tripdata.drop(columns=['Unnamed: 0'], inplace=True)"
   ]
  },
  {
   "cell_type": "code",
   "execution_count": null,
   "id": "4c6d4018",
   "metadata": {},
   "outputs": [],
   "source": [
    "def process_zipcode(x):\n",
    "    if pd.notna(x):\n",
    "        return str(int(x))\n",
    "    return x\n",
    "\n",
    "tripdata['dropoff_zipcode'] = tripdata['dropoff_zipcode'].apply(process_zipcode)"
   ]
  },
  {
   "cell_type": "code",
   "execution_count": null,
   "id": "f8ad84ff",
   "metadata": {},
   "outputs": [],
   "source": [
    "df = pd.read_csv('ACSData.csv')\n",
    "df.zipcode = df.zipcode.astype(str)"
   ]
  },
  {
   "cell_type": "code",
   "execution_count": null,
   "id": "a2a0f651",
   "metadata": {},
   "outputs": [],
   "source": [
    "tripdata = pd.merge(tripdata, df, left_on='dropoff_zipcode', right_on='zipcode', how='left')"
   ]
  },
  {
   "cell_type": "code",
   "execution_count": null,
   "id": "f77ff435",
   "metadata": {},
   "outputs": [],
   "source": [
    "tripdata.to_csv('tripdata_ACSData_2023-09.csv',index=None)"
   ]
  },
  {
   "cell_type": "code",
   "execution_count": null,
   "id": "9e637ca6",
   "metadata": {},
   "outputs": [],
   "source": []
  }
 ],
 "metadata": {
  "kernelspec": {
   "display_name": "Python 3 (ipykernel)",
   "language": "python",
   "name": "python3"
  },
  "language_info": {
   "codemirror_mode": {
    "name": "ipython",
    "version": 3
   },
   "file_extension": ".py",
   "mimetype": "text/x-python",
   "name": "python",
   "nbconvert_exporter": "python",
   "pygments_lexer": "ipython3",
   "version": "3.9.12"
  },
  "toc": {
   "base_numbering": 1,
   "nav_menu": {},
   "number_sections": true,
   "sideBar": true,
   "skip_h1_title": false,
   "title_cell": "Table of Contents",
   "title_sidebar": "Contents",
   "toc_cell": false,
   "toc_position": {},
   "toc_section_display": true,
   "toc_window_display": false
  },
  "varInspector": {
   "cols": {
    "lenName": 16,
    "lenType": 16,
    "lenVar": 40
   },
   "kernels_config": {
    "python": {
     "delete_cmd_postfix": "",
     "delete_cmd_prefix": "del ",
     "library": "var_list.py",
     "varRefreshCmd": "print(var_dic_list())"
    },
    "r": {
     "delete_cmd_postfix": ") ",
     "delete_cmd_prefix": "rm(",
     "library": "var_list.r",
     "varRefreshCmd": "cat(var_dic_list()) "
    }
   },
   "types_to_exclude": [
    "module",
    "function",
    "builtin_function_or_method",
    "instance",
    "_Feature"
   ],
   "window_display": false
  }
 },
 "nbformat": 4,
 "nbformat_minor": 5
}
