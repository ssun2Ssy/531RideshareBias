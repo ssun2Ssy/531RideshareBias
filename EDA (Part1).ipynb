{
 "cells": [
  {
   "cell_type": "markdown",
   "metadata": {},
   "source": [
    "# EDA"
   ]
  },
  {
   "cell_type": "code",
   "execution_count": 1,
   "metadata": {},
   "outputs": [],
   "source": [
    "import pandas as pd\n",
    "import matplotlib.pyplot as plt\n",
    "import seaborn as sns"
   ]
  },
  {
   "cell_type": "code",
   "execution_count": null,
   "metadata": {},
   "outputs": [],
   "source": [
    "file_path = 'tripdata_ACSData_2023-09.csv'\n",
    "df = pd.read_csv(file_path)"
   ]
  },
  {
   "cell_type": "code",
   "execution_count": null,
   "metadata": {},
   "outputs": [],
   "source": [
    "print(\" Dataset shape (rows, columns):\", df.shape)\n",
    "\n",
    "print(\"\\n Columns:\")\n",
    "print(df.columns.tolist())\n",
    "\n",
    "print(\"\\n Data types:\")\n",
    "print(df.dtypes)\n",
    "\n",
    "print(\"\\n Missing values per column:\")\n",
    "print(df.isnull().sum().sort_values(ascending=False))"
   ]
  },
  {
   "cell_type": "code",
   "execution_count": null,
   "metadata": {},
   "outputs": [],
   "source": [
    "print(df.iloc[0].to_string())"
   ]
  },
  {
   "cell_type": "code",
   "execution_count": null,
   "metadata": {},
   "outputs": [],
   "source": [
    "df_clean = df.dropna(subset=['pickup_zipcode', 'dropoff_zipcode', 'zipcode'])\n",
    "print(f\"Rows after dropping null zipcodes: {len(df_clean):,}\")\n",
    "initial_rows = len(df)\n",
    "dropped_rows = initial_rows - len(df_clean)\n",
    "print(f\"Dropped rows with missing zipcodes: {dropped_rows:,}\")"
   ]
  },
  {
   "cell_type": "code",
   "execution_count": null,
   "metadata": {},
   "outputs": [],
   "source": [
    "negative_fares = df_clean[df_clean['base_passenger_fare'] < 0]\n",
    "print(f\"Number of trips with negative base fare: {len(negative_fares):,}\")"
   ]
  },
  {
   "cell_type": "code",
   "execution_count": null,
   "metadata": {},
   "outputs": [],
   "source": [
    "# remove the negative base fare rows\n",
    "df_clean = df_clean[df_clean['base_passenger_fare'] >= 0]\n",
    "print(f\"Rows after dropping negative base fare: {len(df_clean):,}\")"
   ]
  },
  {
   "cell_type": "code",
   "execution_count": null,
   "metadata": {},
   "outputs": [],
   "source": [
    "df_clean.to_csv('cleaned_tripdata_ACSData_2023-09.csv', index=False)"
   ]
  },
  {
   "cell_type": "code",
   "execution_count": 2,
   "metadata": {},
   "outputs": [
    {
     "data": {
      "text/plain": [
       "0"
      ]
     },
     "execution_count": 2,
     "metadata": {},
     "output_type": "execute_result"
    }
   ],
   "source": [
    "import gc\n",
    "gc.collect()"
   ]
  },
  {
   "cell_type": "code",
   "execution_count": 4,
   "metadata": {},
   "outputs": [],
   "source": [
    "# Only read the columns you need\n",
    "columns_needed = [\n",
    "    'dropoff_zipcode',\n",
    "    'Households!!Median income (dollars)',\n",
    "    'Percent below poverty level!!Population for whom poverty status is determined',\n",
    "    'RACE!!Total population!!One race!!White',\n",
    "    'RACE!!Total population!!One race!!Black or African American',\n",
    "    'RACE!!Total population!!One race!!Asian',\n",
    "    'RACE!!Total population!!One race!!Some Other Race',\n",
    "    'Total population',\n",
    "    'trip_miles',\n",
    "    'trip_time',\n",
    "    'shared_request_flag',\n",
    "    'base_passenger_fare'\n",
    "]\n",
    "\n",
    "# Read only selected columns from CSV\n",
    "df_clean = pd.read_csv('cleaned_tripdata_ACSData_2023-09.csv', usecols=columns_needed)"
   ]
  },
  {
   "cell_type": "code",
   "execution_count": 5,
   "metadata": {},
   "outputs": [],
   "source": [
    "# Safe type conversion\n",
    "df_clean['dropoff_zipcode'] = df_clean['dropoff_zipcode'].astype('Int64')\n",
    "\n",
    "# Save smaller feather file\n",
    "df_clean.to_feather('df_clean.feather')"
   ]
  },
  {
   "cell_type": "code",
   "execution_count": 6,
   "metadata": {},
   "outputs": [],
   "source": [
    "import pandas as pd\n",
    "import matplotlib.pyplot as plt\n",
    "import seaborn as sns\n",
    "\n",
    "# ----------------------------------------\n",
    "# Step 1: Read and Select Important Columns\n",
    "# ----------------------------------------\n",
    "\n",
    "# Read the full cleaned dataset\n",
    "df_clean = pd.read_feather(\"df_clean.feather\")\n",
    "df_demo = df_clean[columns_needed].copy()\n",
    "\n",
    "# ----------------------------------------\n",
    "# Step 2: Convert Columns to Numeric Safely\n",
    "# ----------------------------------------\n",
    "\n",
    "# Some demographic fields need type conversion\n",
    "numeric_cols = [\n",
    "    'Households!!Median income (dollars)',\n",
    "    'Percent below poverty level!!Population for whom poverty status is determined',\n",
    "    'Total population'\n",
    "]\n",
    "\n",
    "for col in numeric_cols:\n",
    "    df_demo[col] = pd.to_numeric(df_demo[col], errors='coerce')\n",
    "\n",
    "# Drop rows missing key demographic values\n",
    "df_demo.dropna(subset=numeric_cols, inplace=True)\n",
    "\n",
    "# Save small cleaned file (optional, for future)\n",
    "df_demo.to_feather(\"df_demo.feather\")\n",
    "\n",
    "# ----------------------------------------\n",
    "# Step 3: Race Group Assignment\n",
    "# ----------------------------------------\n",
    "\n",
    "# Race group by highest proportion\n",
    "race_cols = {\n",
    "    'White': 'RACE!!Total population!!One race!!White',\n",
    "    'Black': 'RACE!!Total population!!One race!!Black or African American',\n",
    "    'Asian': 'RACE!!Total population!!One race!!Asian',\n",
    "    'Other': 'RACE!!Total population!!One race!!Some Other Race'\n",
    "}\n",
    "\n",
    "def assign_race_group(row):\n",
    "    race_counts = {race: row[col] for race, col in race_cols.items()}\n",
    "    return max(race_counts, key=race_counts.get)\n",
    "\n",
    "df_demo['race_group'] = df_demo.apply(assign_race_group, axis=1)\n",
    "\n",
    "# ----------------------------------------\n",
    "# Step 4: Create fare_level (Binary Label)\n",
    "# ----------------------------------------\n",
    "\n",
    "median_fare = df_demo['base_passenger_fare'].median()\n",
    "df_demo['fare_level'] = (df_demo['base_passenger_fare'] > median_fare).astype(int)\n",
    "\n",
    "# Convert shared_request_flag to binary (Y=1, N=0)\n",
    "df_demo['shared_flag_binary'] = df_demo['shared_request_flag'].map({'Y': 1, 'N': 0})\n"
   ]
  },
  {
   "cell_type": "code",
   "execution_count": 11,
   "metadata": {},
   "outputs": [
    {
     "name": "stdout",
     "output_type": "stream",
     "text": [
      "|    | race_group   |   Total Rides |   Avg Trip Miles (miles) |   Avg Trip Time (minutes) |   Shared Ride Rate (%) |\n",
      "|----|--------------|---------------|--------------------------|---------------------------|------------------------|\n",
      "|  0 | Asian        |       1129633 |                     4.4  |                     18.02 |                   3.32 |\n",
      "|  1 | Black        |       4487052 |                     4.12 |                     18.34 |                   4.02 |\n",
      "|  2 | Other        |       1690473 |                     4.28 |                     17.4  |                   3.24 |\n",
      "|  3 | White        |      10296012 |                     4.08 |                     19.95 |                   2.55 |\n"
     ]
    }
   ],
   "source": [
    "from tabulate import tabulate  # pip install tabulate if needed\n",
    "\n",
    "# 1. Group and aggregate\n",
    "trip_features = df_demo.groupby('race_group').agg(\n",
    "    total_rides=('trip_miles', 'count'),   # Count total number of trips\n",
    "    avg_trip_miles=('trip_miles', 'mean'),\n",
    "    avg_trip_time_sec=('trip_time', 'mean'),\n",
    "    shared_ride_rate=('shared_flag_binary', 'mean')\n",
    ").reset_index()\n",
    "\n",
    "# 2. Convert trip time from seconds to minutes\n",
    "trip_features['avg_trip_time_min'] = trip_features['avg_trip_time_sec'] / 60\n",
    "\n",
    "# 3. Keep and rename columns clearly\n",
    "trip_features = trip_features[['race_group', 'total_rides', 'avg_trip_miles', 'avg_trip_time_min', 'shared_ride_rate']]\n",
    "trip_features = trip_features.rename(columns={\n",
    "    'total_rides': 'Total Rides',\n",
    "    'avg_trip_miles': 'Avg Trip Miles (miles)',\n",
    "    'avg_trip_time_min': 'Avg Trip Time (minutes)',\n",
    "    'shared_ride_rate': 'Shared Ride Rate (%)'\n",
    "})\n",
    "\n",
    "# 4. Format shared ride rate as percentage\n",
    "trip_features['Shared Ride Rate (%)'] = trip_features['Shared Ride Rate (%)'] * 100\n",
    "\n",
    "# 5. Round nicely\n",
    "trip_features = trip_features.round(2)\n",
    "\n",
    "# 6. Print clean markdown table\n",
    "print(tabulate(trip_features, headers='keys', tablefmt='github'))\n"
   ]
  },
  {
   "cell_type": "code",
   "execution_count": null,
   "metadata": {},
   "outputs": [],
   "source": [
    "# ----------------------------------------\n",
    "# (Optional) Step 6: Bar Chart for High Fare Rate\n",
    "# ----------------------------------------\n",
    "\n",
    "high_fare_rate = df_demo.groupby('race_group')['fare_level'].mean().reset_index()\n",
    "\n",
    "# Use a visually distinct color palette\n",
    "plt.figure(figsize=(8, 5))\n",
    "sns.barplot(data=high_fare_rate, x='race_group', y='fare_level', palette='pastel')\n",
    "\n",
    "# Updated title to reflect it's about BASE fare\n",
    "plt.title('Proportion of High Base Fare Rides by Race Group', fontsize=14)\n",
    "plt.ylabel('Share of High Fare Rides (fare_level = 1)')\n",
    "plt.xlabel('Race Group (Based on Dropoff Zipcode)')\n",
    "plt.ylim(0, 1)\n",
    "plt.grid(axis='y', linestyle='--', alpha=0.7)\n",
    "plt.tight_layout()\n",
    "plt.show()\n",
    "\n"
   ]
  },
  {
   "cell_type": "code",
   "execution_count": 12,
   "metadata": {},
   "outputs": [
    {
     "name": "stdout",
     "output_type": "stream",
     "text": [
      "Chi2 statistic: 401611.19, p-value: 0.0000\n"
     ]
    }
   ],
   "source": [
    "from scipy.stats import chi2_contingency\n",
    "import pandas as pd\n",
    "\n",
    "# Build contingency table\n",
    "contingency_table = pd.crosstab(df_demo['race_group'], df_demo['fare_level'])\n",
    "\n",
    "# Run Chi-squared test\n",
    "chi2, p, dof, expected = chi2_contingency(contingency_table)\n",
    "\n",
    "print(f\"Chi2 statistic: {chi2:.2f}, p-value: {p:.4f}\")"
   ]
  },
  {
   "cell_type": "code",
   "execution_count": 14,
   "metadata": {},
   "outputs": [
    {
     "name": "stderr",
     "output_type": "stream",
     "text": [
      "C:\\Users\\Dell\\AppData\\Local\\Temp\\ipykernel_6872\\2265902632.py:13: FutureWarning: \n",
      "\n",
      "Passing `palette` without assigning `hue` is deprecated and will be removed in v0.14.0. Assign the `x` variable to `hue` and set `legend=False` for the same effect.\n",
      "\n",
      "  sns.boxplot(data=df_demo, x='race_group', y='base_passenger_fare', palette='pastel')\n",
      "C:\\Users\\Dell\\AppData\\Local\\Temp\\ipykernel_6872\\2265902632.py:18: UserWarning: Attempt to set non-positive ylim on a log-scaled axis will be ignored.\n",
      "  plt.ylim(0, 50)\n"
     ]
    },
    {
     "data": {
      "image/png": "[encoded data removed]",
      "text/plain": [
       "<Figure size 1000x600 with 1 Axes>"
      ]
     },
     "metadata": {},
     "output_type": "display_data"
    }
   ],
   "source": [
    "import pandas as pd\n",
    "import matplotlib.pyplot as plt\n",
    "import seaborn as sns\n",
    "from scipy.stats import f_oneway\n",
    "\n",
    "# Assume df_demo already prepared and has 'race_group' and 'base_passenger_fare'\n",
    "\n",
    "# ----------------------------------------\n",
    "# Step 1: Boxplot of Base Fare Amounts\n",
    "# ----------------------------------------\n",
    "\n",
    "plt.figure(figsize=(10, 6))\n",
    "sns.boxplot(data=df_demo, x='race_group', y='base_passenger_fare', palette='pastel')\n",
    "plt.yscale('log')  # Optional: use log scale to handle large outliers\n",
    "plt.title('Distribution of Base Passenger Fare by Race Group')\n",
    "plt.ylabel('Base Passenger Fare ($)')\n",
    "plt.xlabel('Race Group (Based on Dropoff Zipcode)')\n",
    "plt.ylim(0, 50)\n",
    "plt.grid(axis='y', linestyle='--', alpha=0.7)\n",
    "plt.tight_layout()\n",
    "plt.show()"
   ]
  },
  {
   "cell_type": "code",
   "execution_count": 15,
   "metadata": {},
   "outputs": [
    {
     "name": "stdout",
     "output_type": "stream",
     "text": [
      "ANOVA F-statistic: 101356.44\n",
      "ANOVA p-value: 0.0000\n"
     ]
    }
   ],
   "source": [
    "\n",
    "# ----------------------------------------\n",
    "# Step 2: ANOVA Test for Base Fare Differences\n",
    "# ----------------------------------------\n",
    "\n",
    "# Separate base fares by race group\n",
    "asian_fares = df_demo[df_demo['race_group'] == 'Asian']['base_passenger_fare']\n",
    "black_fares = df_demo[df_demo['race_group'] == 'Black']['base_passenger_fare']\n",
    "white_fares = df_demo[df_demo['race_group'] == 'White']['base_passenger_fare']\n",
    "other_fares = df_demo[df_demo['race_group'] == 'Other']['base_passenger_fare']\n",
    "\n",
    "# Run one-way ANOVA\n",
    "anova_result = f_oneway(asian_fares, black_fares, white_fares, other_fares)\n",
    "\n",
    "print(f\"ANOVA F-statistic: {anova_result.statistic:.2f}\")\n",
    "print(f\"ANOVA p-value: {anova_result.pvalue:.4f}\")\n"
   ]
  },
  {
   "cell_type": "markdown",
   "metadata": {},
   "source": [
    "# Company-Level Overview"
   ]
  },
  {
   "cell_type": "code",
   "execution_count": null,
   "metadata": {},
   "outputs": [],
   "source": [
    "print(\"Unique HVFHS license numbers in cleaned data:\")\n",
    "print(df_clean['hvfhs_license_num'].unique())"
   ]
  },
  {
   "cell_type": "code",
   "execution_count": null,
   "metadata": {},
   "outputs": [],
   "source": [
    "# Map license numbers to company names\n",
    "company_map = {\n",
    "    'HV0002': 'Juno',\n",
    "    'HV0003': 'Uber',\n",
    "    'HV0004': 'Via',\n",
    "    'HV0005': 'Lyft'\n",
    "}\n",
    "df_clean.loc[:, 'company'] = df_clean['hvfhs_license_num'].map(company_map)\n",
    "\n",
    "# Group by company\n",
    "company_summary = df_clean.groupby('company').agg(\n",
    "    num_trips=('hvfhs_license_num', 'count'),\n",
    "    total_fare=('base_passenger_fare', 'sum'),\n",
    "    avg_fare=('base_passenger_fare', 'mean')\n",
    ").reset_index()\n",
    "\n",
    "# Add percentage of total trips\n",
    "total_trips = company_summary['num_trips'].sum()\n",
    "company_summary['trip_share_%'] = round(company_summary['num_trips'] / total_trips * 100, 2)\n",
    "\n",
    "# Display summary\n",
    "print(\"Company-Level Summary:\")\n",
    "print(company_summary)"
   ]
  },
  {
   "cell_type": "code",
   "execution_count": null,
   "metadata": {},
   "outputs": [],
   "source": [
    "# Boxplot: Fare distribution by company\n",
    "plt.figure(figsize=(10, 5))\n",
    "sns.boxplot(x='company', y='base_passenger_fare', data=df_clean[df_clean['base_passenger_fare'] < 100])  # remove extreme outliers\n",
    "plt.title(\"Fare Distribution by Company (base_passenger_fare < $100)\")\n",
    "plt.ylabel(\"Base Fare ($)\")\n",
    "plt.xlabel(\"Company\")\n",
    "plt.grid(True, linestyle='--', alpha=0.5)\n",
    "plt.tight_layout()\n",
    "plt.show()\n"
   ]
  },
  {
   "cell_type": "markdown",
   "metadata": {},
   "source": [
    "# Ride-Type Breakdown"
   ]
  },
  {
   "cell_type": "markdown",
   "metadata": {},
   "source": [
    "```\n",
    "shared_request_flag: Did the passenger agree to a shared/pooled ride, regardless of whether they were matched? (Y/N) \n",
    "shared_match_flag: Did the passenger share the vehicle with another passenger who booked separately at any point during the trip? (Y/N)\n",
    "wav_request_flag: Did the passenger request a wheelchair-accessible vehicle (WAV)? (Y/N) \n",
    "wav_match_flag: Did the trip occur in a wheelchair-accessible vehicle (WAV)? (Y/N)\n",
    "```"
   ]
  },
  {
   "cell_type": "code",
   "execution_count": null,
   "metadata": {},
   "outputs": [],
   "source": [
    "# Set float display format\n",
    "pd.options.display.float_format = '{:,.2f}'.format\n",
    "\n",
    "# Shared ride request flag summary\n",
    "shared_summary = df_clean['shared_request_flag'].value_counts(dropna=False).rename_axis('shared_request_flag').reset_index(name='count')\n",
    "shared_summary['percentage'] = (shared_summary['count'] / len(df_clean) * 100).round(2)\n",
    "print(\"Shared Request Flag Summary:\")\n",
    "print(shared_summary)\n",
    "\n",
    "# Shared ride match flag summary\n",
    "match_summary = df_clean['shared_match_flag'].value_counts(dropna=False).rename_axis('shared_match_flag').reset_index(name='count')\n",
    "match_summary['percentage'] = (match_summary['count'] / len(df_clean) * 100).round(2)\n",
    "print(\"\\nShared Match Flag Summary:\")\n",
    "print(match_summary)\n",
    "\n",
    "# Average fare by shared request status\n",
    "print(\"\\nAverage Base Fare by Shared Request Flag:\")\n",
    "print(df_clean.groupby('shared_request_flag')['base_passenger_fare'].mean())"
   ]
  },
  {
   "cell_type": "code",
   "execution_count": null,
   "metadata": {},
   "outputs": [],
   "source": [
    "# WAV request flag summary\n",
    "wav_request_summary = df_clean['wav_request_flag'].value_counts(dropna=False).rename_axis('wav_request_flag').reset_index(name='count')\n",
    "wav_request_summary['percentage'] = (wav_request_summary['count'] / len(df_clean) * 100).round(2)\n",
    "print(\"\\nWAV Request Flag Summary:\")\n",
    "print(wav_request_summary)\n",
    "\n",
    "# WAV match flag summary\n",
    "wav_match_summary = df_clean['wav_match_flag'].value_counts(dropna=False).rename_axis('wav_match_flag').reset_index(name='count')\n",
    "wav_match_summary['percentage'] = (wav_match_summary['count'] / len(df_clean) * 100).round(2)\n",
    "print(\"\\nWAV Match Flag Summary:\")\n",
    "print(wav_match_summary)"
   ]
  },
  {
   "cell_type": "code",
   "execution_count": null,
   "metadata": {},
   "outputs": [],
   "source": [
    "# Categorize ride type for comparison\n",
    "def label_ride_type(row):\n",
    "    if row['access_a_ride_flag'] == 'Y':\n",
    "        return 'Accessible'\n",
    "    elif row['shared_request_flag'] == 'Y':\n",
    "        return 'Shared'\n",
    "    else:\n",
    "        return 'Regular'\n",
    "\n",
    "df_clean['ride_type'] = df_clean.apply(label_ride_type, axis=1)\n",
    "\n",
    "# Calculate average toll per ride type\n",
    "toll_comparison = df_clean.groupby('ride_type')['tolls'].mean().reset_index()\n",
    "\n",
    "# Plot\n",
    "plt.figure(figsize=(8, 5))\n",
    "plt.bar(toll_comparison['ride_type'], toll_comparison['tolls'], color=['#3182bd', '#9ecae1', '#fdae6b'])\n",
    "plt.title(\"Average Tolls by Ride Type\")\n",
    "plt.xlabel(\"Ride Type\")\n",
    "plt.ylabel(\"Average Toll ($)\")\n",
    "plt.grid(True, axis='y', linestyle='--', alpha=0.5)\n",
    "plt.tight_layout()\n",
    "plt.show()"
   ]
  },
  {
   "cell_type": "markdown",
   "metadata": {},
   "source": [
    "# Geographic Patterns"
   ]
  },
  {
   "cell_type": "code",
   "execution_count": null,
   "metadata": {},
   "outputs": [],
   "source": [
    "Median fare, min/max fare, avg fare by dropoff_zipcode\n",
    "\n",
    "Trip count heatmap by zipcode\n",
    "\n",
    "Distance vs. fare across different areas\n",
    "\n",
    "Are certain zip codes always paying more per mile?"
   ]
  },
  {
   "cell_type": "code",
   "execution_count": null,
   "metadata": {},
   "outputs": [],
   "source": [
    "print(\"Number of unique dropoff zipcodes:\", df_clean['dropoff_zipcode'].nunique())\n",
    "print(\"Number of unique pickup zipcodes:\", df_clean['pickup_zipcode'].nunique())"
   ]
  },
  {
   "cell_type": "code",
   "execution_count": null,
   "metadata": {},
   "outputs": [],
   "source": [
    "# Group by dropoff_zipcode\n",
    "df_clean = pd.read_feather(\"df_clean.feather\")\n",
    "\n",
    "\n",
    "# Basic zipcode-level aggregation\n",
    "zipcode_stats = df_clean.groupby('dropoff_zipcode').agg(\n",
    "    trip_count=('base_passenger_fare', 'count'),\n",
    "    median_fare=('base_passenger_fare', 'median'),\n",
    "    avg_fare=('base_passenger_fare', 'mean'),\n",
    "    std_fare=('base_passenger_fare', 'std'),\n",
    "    min_fare=('base_passenger_fare', 'min'),\n",
    "    max_fare=('base_passenger_fare', 'max'),\n",
    "    avg_miles=('trip_miles', 'mean'),\n",
    "    avg_fare_per_mile=('base_passenger_fare', lambda x: x.sum() / df_clean.loc[x.index, 'trip_miles'].sum())\n",
    ").reset_index()\n",
    "\n",
    "# Coefficient of variation (std / mean)\n",
    "zipcode_stats['fare_cv'] = zipcode_stats['std_fare'] / zipcode_stats['avg_fare']\n",
    "\n",
    "# Interquartile range (IQR)\n",
    "q1 = df_clean.groupby('dropoff_zipcode')['base_passenger_fare'].quantile(0.25)\n",
    "q3 = df_clean.groupby('dropoff_zipcode')['base_passenger_fare'].quantile(0.75)\n",
    "iqr = (q3 - q1).rename('fare_iqr')\n",
    "zipcode_stats = zipcode_stats.merge(iqr, on='dropoff_zipcode', how='left')\n",
    "\n",
    "# Count of expensive trips (> $100) Flags unusual high-fare density\n",
    "expensive_counts = df_clean[df_clean['base_passenger_fare'] > 100].groupby('dropoff_zipcode').size()\n",
    "zipcode_stats['num_expensive'] = zipcode_stats['dropoff_zipcode'].map(expensive_counts).fillna(0).astype(int)\n",
    "\n",
    "# % of short trips (< 1 mile) Helps detect if short rides are overcharged in some areas\n",
    "short_counts = df_clean[df_clean['trip_miles'] < 1].groupby('dropoff_zipcode').size()\n",
    "zipcode_stats['pct_short_trips'] = (short_counts / zipcode_stats['trip_count']).fillna(0) * 100\n",
    "# View top rows\n",
    "print(zipcode_stats.head())"
   ]
  },
  {
   "cell_type": "code",
   "execution_count": null,
   "metadata": {},
   "outputs": [],
   "source": [
    "# Top 10 by average fare\n",
    "top10_avg = zipcode_stats.sort_values('avg_fare', ascending=False).head(10)\n",
    "print(\"Top 10 Zipcodes by Average Fare:\")\n",
    "print(top10_avg[['dropoff_zipcode', 'avg_fare', 'trip_count']])\n",
    "print(\"\\n\" + \"=\"*60 + \"\\n\")\n",
    "\n",
    "# Bottom 10 by average fare\n",
    "bottom10_avg = zipcode_stats.sort_values('avg_fare', ascending=True).head(10)\n",
    "print(\"Bottom 10 Zipcodes by Average Fare:\")\n",
    "print(bottom10_avg[['dropoff_zipcode', 'avg_fare', 'trip_count']])\n",
    "print(\"\\n\" + \"=\"*60 + \"\\n\")\n",
    "\n",
    "# Top 10 by fare per mile\n",
    "top10_ppm = zipcode_stats.sort_values('avg_fare_per_mile', ascending=False).head(10)\n",
    "print(\"Top 10 Zipcodes by Average Fare per Mile:\")\n",
    "print(top10_ppm[['dropoff_zipcode', 'avg_fare_per_mile', 'avg_miles', 'trip_count']])\n",
    "print(\"\\n\" + \"=\"*60 + \"\\n\")\n",
    "\n",
    "# Top 10 most variable fares (by std deviation)\n",
    "top10_variable = zipcode_stats.sort_values('std_fare', ascending=False).head(10)\n",
    "print(\"Top 10 Zipcodes by Fare Variability (Std Dev):\")\n",
    "print(top10_variable[['dropoff_zipcode', 'std_fare', 'avg_fare', 'trip_count']])"
   ]
  },
  {
   "cell_type": "code",
   "execution_count": null,
   "metadata": {},
   "outputs": [],
   "source": [
    "def annotated_barplot(data, x, y, title, ylabel):\n",
    "    # Sort by y to control bar order (left to right)\n",
    "    data_sorted = data.sort_values(by=y, ascending=True)\n",
    "\n",
    "    plt.figure(figsize=(10, 6))\n",
    "    ax = sns.barplot(\n",
    "        data=data_sorted,\n",
    "        x=x,\n",
    "        y=y,\n",
    "        palette='viridis',\n",
    "        order=data_sorted[x]  # ensure left-to-right ordering\n",
    "    )\n",
    "    \n",
    "    plt.title(title)\n",
    "    plt.ylabel(ylabel)\n",
    "    plt.xlabel(\"Zipcode\")\n",
    "    plt.xticks(rotation=45, ha='right')\n",
    "    plt.ylim(0, data_sorted[y].max() * 1.2)\n",
    "\n",
    "    # Add real value labels on top\n",
    "    for p in ax.patches:\n",
    "        ax.annotate(f'{p.get_height():.2f}', \n",
    "                    (p.get_x() + p.get_width() / 2, p.get_height()), \n",
    "                    ha='center', va='bottom', fontsize=9)\n",
    "\n",
    "    plt.tight_layout()\n",
    "    plt.show()\n",
    "\n",
    "# Create all 4 annotated plots\n",
    "annotated_barplot(top10_avg, 'dropoff_zipcode', 'avg_fare', \"Top 10 Zipcodes by Average Fare\", \"Average Fare ($)\")\n",
    "annotated_barplot(bottom10_avg, 'dropoff_zipcode', 'avg_fare', \"Bottom 10 Zipcodes by Average Fare\", \"Average Fare ($)\")\n",
    "annotated_barplot(top10_ppm, 'dropoff_zipcode', 'avg_fare_per_mile', \"Top 10 Zipcodes by Fare per Mile\", \"Fare per Mile ($)\")\n",
    "annotated_barplot(top10_variable, 'dropoff_zipcode', 'std_fare', \"Top 10 Zipcodes by Fare Variability (Std Dev)\", \"Std Deviation ($)\")"
   ]
  },
  {
   "cell_type": "code",
   "execution_count": null,
   "metadata": {},
   "outputs": [],
   "source": [
    "# Heatmap of trip counts by zipcode\n",
    "top_zipcodes['dropoff_zipcode'] = top_zipcodes['dropoff_zipcode'].astype(str)\n",
    "plt.figure(figsize=(14, 5))\n",
    "sns.barplot(data=top_zipcodes, x='dropoff_zipcode', y='trip_count', palette='Blues_d')\n",
    "plt.title(\"Top 30 Dropoff Zipcodes by Trip Count\")\n",
    "plt.xlabel(\"Dropoff Zipcode\")\n",
    "plt.ylabel(\"Trip Count\")\n",
    "plt.xticks(rotation=45, ha='right')\n",
    "plt.tight_layout()\n",
    "plt.show()"
   ]
  },
  {
   "cell_type": "code",
   "execution_count": null,
   "metadata": {},
   "outputs": [],
   "source": [
    "plt.figure(figsize=(8, 5))\n",
    "\n",
    "# Filter data: only keep trips with miles between 0 and 50 and positive fare\n",
    "sample = df_clean[\n",
    "    (df_clean['trip_miles'] > 0) &\n",
    "    (df_clean['trip_miles'] <= 50) &\n",
    "    (df_clean['base_passenger_fare'] > 0)\n",
    "].sample(100000, random_state=1)\n",
    "\n",
    "# Scatter plot\n",
    "sns.scatterplot(data=sample, x='trip_miles', y='base_passenger_fare', alpha=0.2)\n",
    "\n",
    "# Add regression line\n",
    "sns.regplot(\n",
    "    data=sample,\n",
    "    x='trip_miles',\n",
    "    y='base_passenger_fare',\n",
    "    scatter=False,               \n",
    "    line_kws={'color': 'red'}\n",
    ")\n",
    "\n",
    "plt.title(\"Trip Miles vs. Base Fare with Regression Line (Sample, Trips ≤ 50 Miles)\")\n",
    "plt.xlabel(\"Trip Miles\")\n",
    "plt.ylabel(\"Base Fare ($)\")\n",
    "plt.grid(True, linestyle='--', alpha=0.5)\n",
    "plt.tight_layout()\n",
    "plt.show()"
   ]
  },
  {
   "cell_type": "code",
   "execution_count": null,
   "metadata": {},
   "outputs": [],
   "source": [
    "plt.figure(figsize=(8, 5))\n",
    "\n",
    "# Filter: trip_time > 0 and ≤ 3600 seconds (1 hour), positive fare\n",
    "sample = df_clean[\n",
    "    (df_clean['trip_time'] > 0) &\n",
    "    (df_clean['trip_time'] <= 3600) &\n",
    "    (df_clean['base_passenger_fare'] > 0)\n",
    "].sample(100000, random_state=1)\n",
    "\n",
    "# Plot with regression line\n",
    "sns.regplot(\n",
    "    data=sample,\n",
    "    x='trip_time',\n",
    "    y='base_passenger_fare',\n",
    "    scatter_kws={'alpha': 0.2},  # transparency of scatter points\n",
    "    line_kws={'color': 'red'}    # regression line styling\n",
    ")\n",
    "\n",
    "plt.title(\"Trip Time vs. Base Fare with Regression Line (Sample, Trips ≤ 1 Hour)\")\n",
    "plt.xlabel(\"Trip Time (seconds)\")\n",
    "plt.ylabel(\"Base Fare ($)\")\n",
    "plt.grid(True, linestyle='--', alpha=0.5)\n",
    "plt.tight_layout()\n",
    "plt.show()"
   ]
  },
  {
   "cell_type": "markdown",
   "metadata": {},
   "source": [
    "# Demographics & Bias Indicators"
   ]
  },
  {
   "cell_type": "code",
   "execution_count": null,
   "metadata": {},
   "outputs": [],
   "source": [
    "# Read the full cleaned dataset\n",
    "df_clean = pd.read_feather(\"df_clean.feather\")\n",
    "\n",
    "# Select only relevant demographic and fare columns\n",
    "columns_needed = [\n",
    "    'dropoff_zipcode',\n",
    "    'Households!!Median income (dollars)',\n",
    "    'Percent below poverty level!!Population for whom poverty status is determined',\n",
    "    'RACE!!Total population!!One race!!White',\n",
    "    'RACE!!Total population!!One race!!Black or African American',\n",
    "    'RACE!!Total population!!One race!!Asian',\n",
    "    'RACE!!Total population!!One race!!Some Other Race',\n",
    "    'Total population',\n",
    "    'base_passenger_fare',\n",
    "    'tolls'\n",
    "]\n",
    "\n",
    "df_demo = df_clean[columns_needed].copy()\n",
    "\n",
    "# Convert critical columns to numeric safely\n",
    "numeric_cols = [\n",
    "    'Households!!Median income (dollars)',\n",
    "    'Percent below poverty level!!Population for whom poverty status is determined',\n",
    "    'Total population'\n",
    "]\n",
    "\n",
    "for col in numeric_cols:\n",
    "    df_demo[col] = pd.to_numeric(df_demo[col], errors='coerce')\n",
    "\n",
    "# Drop rows with any missing key demographic values\n",
    "df_demo.dropna(subset=numeric_cols, inplace=True)\n",
    "\n",
    "# Save cleaned subset\n",
    "df_demo.to_feather(\"df_demo.feather\")\n"
   ]
  },
  {
   "cell_type": "code",
   "execution_count": null,
   "metadata": {},
   "outputs": [],
   "source": [
    "# Read cleaned feather\n",
    "df_demo = pd.read_feather(\"df_demo.feather\")\n",
    "\n",
    "# Group by zipcode and aggregate demographics\n",
    "demographic_summary = df_demo.groupby('dropoff_zipcode').agg(\n",
    "    median_income=('Households!!Median income (dollars)', 'mean'),\n",
    "    poverty_rate=('Percent below poverty level!!Population for whom poverty status is determined', 'mean'),\n",
    "    avg_fare=('base_passenger_fare', 'mean'),\n",
    "    white=('RACE!!Total population!!One race!!White', 'sum'),\n",
    "    black=('RACE!!Total population!!One race!!Black or African American', 'sum'),\n",
    "    asian=('RACE!!Total population!!One race!!Asian', 'sum'),\n",
    "    other=('RACE!!Total population!!One race!!Some Other Race', 'sum'),\n",
    "    total_population=('Total population', 'sum')\n",
    ").reset_index()\n",
    "\n",
    "# Compute racial percentages properly\n",
    "demographic_summary['white_pct'] = demographic_summary['white'] / demographic_summary['total_population']\n",
    "demographic_summary['black_pct'] = demographic_summary['black'] / demographic_summary['total_population']\n",
    "demographic_summary['asian_pct'] = demographic_summary['asian'] / demographic_summary['total_population']\n",
    "demographic_summary['other_pct'] = demographic_summary['other'] / demographic_summary['total_population']\n",
    "\n",
    "# Bin zipcodes into income deciles\n",
    "demographic_summary['income_decile'] = pd.qcut(demographic_summary['median_income'], 10, labels=False)\n",
    "income_bins = pd.qcut(demographic_summary['median_income'], 10)\n",
    "demographic_summary['income_decile_label'] = income_bins\n",
    "\n",
    "# Compare avg fare by income decile\n",
    "income_decile_fares = demographic_summary.groupby('income_decile')['avg_fare'].mean().reset_index()\n"
   ]
  },
  {
   "cell_type": "code",
   "execution_count": null,
   "metadata": {},
   "outputs": [],
   "source": [
    "# Scatter: Poverty Rate vs. Avg Fare\n",
    "plt.figure(figsize=(7, 5))\n",
    "sns.scatterplot(data=demographic_summary, x='poverty_rate', y='avg_fare')\n",
    "plt.title(\"Avg Fare vs. Poverty Rate by Zipcode\")\n",
    "plt.xlabel(\"Poverty Rate (%)\")\n",
    "plt.ylabel(\"Average Fare ($)\")\n",
    "plt.grid(True, linestyle='--', alpha=0.4)\n",
    "plt.tight_layout()\n",
    "plt.show()"
   ]
  },
  {
   "cell_type": "code",
   "execution_count": null,
   "metadata": {},
   "outputs": [],
   "source": [
    "# Line Plot: Income Decile vs. Avg Fare\n",
    "demographic_summary['income_decile_label'] = demographic_summary['income_decile_label'].astype(str)\n",
    "\n",
    "plt.figure(figsize=(10, 5))\n",
    "sns.lineplot(data=demographic_summary, x='income_decile_label', y='avg_fare', marker='o')\n",
    "plt.title(\"Average Fare by Median Income Decile\")\n",
    "plt.xlabel(\"Income Range (Decile Labels)\")\n",
    "plt.ylabel(\"Average Fare ($)\")\n",
    "plt.xticks(rotation=45, ha='right')\n",
    "plt.grid(True, linestyle='--', alpha=0.4)\n",
    "plt.tight_layout()\n",
    "plt.show()\n"
   ]
  },
  {
   "cell_type": "code",
   "execution_count": null,
   "metadata": {},
   "outputs": [],
   "source": [
    "# Top 10 by fare\n",
    "top_zip = demographic_summary.sort_values('avg_fare', ascending=False).head(10)\n",
    "\n",
    "# Bottom 10 by fare\n",
    "bottom_zips = demographic_summary.sort_values('avg_fare', ascending=True).head(10)\n",
    "\n",
    "# Melt for grouped barplot\n",
    "top_melted = top_zip.melt(id_vars='dropoff_zipcode', value_vars=['white_pct', 'black_pct', 'asian_pct', 'other_pct'],\n",
    "                          var_name='Race', value_name='Proportion')\n",
    "bottom_melted = bottom_zips.melt(id_vars='dropoff_zipcode', value_vars=['white_pct', 'black_pct', 'asian_pct', 'other_pct'],\n",
    "                                 var_name='Race', value_name='Proportion')\n",
    "\n",
    "# Barplot for top 10 (avg across them)\n",
    "avg_top = top_melted.groupby('Race')['Proportion'].mean().reset_index()\n",
    "plt.figure(figsize=(7, 5))\n",
    "sns.barplot(data=avg_top, x='Race', y='Proportion', palette='pastel')\n",
    "plt.title(\"Average Race Distribution in 10 Highest Fare Zipcodes\")\n",
    "plt.ylim(0, 1)\n",
    "plt.tight_layout()\n",
    "plt.show()\n",
    "\n",
    "# Barplot for bottom 10 (avg across them)\n",
    "avg_bottom = bottom_melted.groupby('Race')['Proportion'].mean().reset_index()\n",
    "plt.figure(figsize=(7, 5))\n",
    "sns.barplot(data=avg_bottom, x='Race', y='Proportion', palette='muted')\n",
    "plt.title(\"Average Race Distribution in 10 Lowest Fare Zipcodes\")\n",
    "plt.ylim(0, 1)\n",
    "plt.tight_layout()\n",
    "plt.show()"
   ]
  },
  {
   "cell_type": "code",
   "execution_count": null,
   "metadata": {},
   "outputs": [],
   "source": [
    "# Prepare top 10 by fare\n",
    "top_zip = demographic_summary.sort_values('avg_fare', ascending=False).head(10).copy()\n",
    "top_zip['Rank'] = range(1, 11)\n",
    "top_melted = top_zip.melt(\n",
    "    id_vars=['dropoff_zipcode', 'Rank', 'avg_fare'],\n",
    "    value_vars=['white_pct', 'black_pct', 'asian_pct', 'other_pct'],\n",
    "    var_name='Race',\n",
    "    value_name='Proportion'\n",
    ")\n",
    "\n",
    "# Plot: Grouped bar chart\n",
    "plt.figure(figsize=(12, 6))\n",
    "ax = sns.barplot(data=top_melted, x='dropoff_zipcode', y='Proportion', hue='Race')\n",
    "plt.title(\"Race Distribution in 10 Highest Fare Zipcodes\")\n",
    "plt.ylim(-0.08, 1.05)\n",
    "plt.xlabel(\"Dropoff Zipcode\")\n",
    "plt.ylabel(\"Proportion\")\n",
    "plt.xticks(rotation=45)\n",
    "\n",
    "# Add rank + avg fare annotation BELOW each group\n",
    "for i, (zipcode, rank, fare) in enumerate(zip(top_zip['dropoff_zipcode'], top_zip['Rank'], top_zip['avg_fare'])):\n",
    "    plt.text(i, -0.05, f\"#{rank} (${fare:.2f})\", ha='center', va='top', fontsize=9, color='gray')\n",
    "\n",
    "plt.tight_layout()\n",
    "plt.show()\n"
   ]
  },
  {
   "cell_type": "code",
   "execution_count": null,
   "metadata": {},
   "outputs": [],
   "source": [
    "# Prepare bottom 10 by fare\n",
    "bottom_zip = demographic_summary.sort_values('avg_fare', ascending=True).head(10).copy()\n",
    "bottom_zip['Rank'] = range(1, 11)\n",
    "bottom_melted = bottom_zip.melt(\n",
    "    id_vars=['dropoff_zipcode', 'Rank', 'avg_fare'],\n",
    "    value_vars=['white_pct', 'black_pct', 'asian_pct', 'other_pct'],\n",
    "    var_name='Race',\n",
    "    value_name='Proportion'\n",
    ")\n",
    "\n",
    "# Plot: Grouped bar chart\n",
    "plt.figure(figsize=(12, 6))\n",
    "ax = sns.barplot(data=bottom_melted, x='dropoff_zipcode', y='Proportion', hue='Race')\n",
    "plt.title(\"Race Distribution in 10 Lowest Fare Zipcodes\")\n",
    "plt.ylim(-0.08, 1.05)\n",
    "plt.xlabel(\"Dropoff Zipcode\")\n",
    "plt.ylabel(\"Proportion\")\n",
    "plt.xticks(rotation=45)\n",
    "\n",
    "# Add rank + avg fare annotation BELOW each group\n",
    "x_labels = [tick.get_text() for tick in ax.get_xticklabels()]\n",
    "for i, (zipcode, rank, fare) in enumerate(zip(bottom_zip['dropoff_zipcode'], bottom_zip['Rank'], bottom_zip['avg_fare'])):\n",
    "    plt.text(i, -0.05, f\"#{rank} (${fare:.2f})\", ha='center', va='top', fontsize=9, color='gray')\n",
    "\n",
    "plt.tight_layout()\n",
    "plt.show()\n"
   ]
  },
  {
   "cell_type": "code",
   "execution_count": null,
   "metadata": {},
   "outputs": [],
   "source": [
    "# Load the cleaned demographic dataset\n",
    "df_demo = pd.read_feather(\"df_demo.feather\")\n",
    "\n",
    "# Bin percent poverty into 5 levels\n",
    "df_demo['poverty_bin'] = pd.qcut(\n",
    "    df_demo['Percent below poverty level!!Population for whom poverty status is determined'],\n",
    "    q=5,\n",
    "    labels=['Very Low', 'Low', 'Moderate', 'High', 'Very High']\n",
    ")\n",
    "\n",
    "# Bin white_pct into 5 levels\n",
    "df_demo['white_pct'] = df_demo['RACE!!Total population!!One race!!White'] / df_demo['Total population']\n",
    "df_demo['white_bin'] = pd.qcut(df_demo['white_pct'], q=5, labels=['Very Low', 'Low', 'Moderate', 'High', 'Very High'])\n",
    "\n",
    "# Bin black_pct into 5 levels\n",
    "df_demo['black_pct'] = df_demo['RACE!!Total population!!One race!!Black or African American'] / df_demo['Total population']\n",
    "df_demo['black_bin'] = pd.qcut(df_demo['black_pct'], q=5, labels=['Very Low', 'Low', 'Moderate', 'High', 'Very High'])\n",
    "\n",
    "# Bin Asian population share\n",
    "df_demo['asian_pct'] = df_demo['RACE!!Total population!!One race!!Asian'] / df_demo['Total population']\n",
    "df_demo['asian_bin'] = pd.qcut(df_demo['asian_pct'], q=5, labels=['Very Low', 'Low', 'Moderate', 'High', 'Very High'])\n",
    "\n",
    "# Bin Other race population share\n",
    "df_demo['other_pct'] = df_demo['RACE!!Total population!!One race!!Some Other Race'] / df_demo['Total population']\n",
    "df_demo['other_bin'] = pd.qcut(df_demo['other_pct'], q=5, labels=['Very Low', 'Low', 'Moderate', 'High', 'Very High'])\n"
   ]
  },
  {
   "cell_type": "code",
   "execution_count": null,
   "metadata": {},
   "outputs": [],
   "source": [
    "# Group by poverty_bin\n",
    "poverty_summary = df_demo.groupby('poverty_bin').agg(\n",
    "    avg_fare=('base_passenger_fare', 'mean')\n",
    ").reset_index()\n",
    "\n",
    "# Plot: Fare by Poverty Bin\n",
    "plt.figure(figsize=(8, 5))\n",
    "sns.barplot(data=poverty_summary, x='poverty_bin', y='avg_fare', palette='Blues')\n",
    "plt.title(\"Average Fare by Poverty Level\")\n",
    "plt.xlabel(\"Poverty Level\")\n",
    "plt.ylabel(\"Average Fare ($)\")\n",
    "plt.tight_layout()\n",
    "plt.show()\n"
   ]
  },
  {
   "cell_type": "code",
   "execution_count": null,
   "metadata": {},
   "outputs": [],
   "source": [
    "# Plot with FacetGrid\n",
    "g = sns.FacetGrid(summary, col='Race', sharey=True, col_order=['White', 'Black', 'Asian', 'Other'])\n",
    "g.map_dataframe(sns.barplot, x='RaceBin', y='avg_fare', palette='viridis')\n",
    "\n",
    "# Tweak labels\n",
    "g.set_axis_labels(\"\", \"Avg Fare ($)\")  # <- This line removes the shared x-axis label\n",
    "g.set_titles(\"{col_name} Population\")\n",
    "\n",
    "plt.tight_layout()\n",
    "plt.show()\n"
   ]
  },
  {
   "cell_type": "code",
   "execution_count": null,
   "metadata": {},
   "outputs": [],
   "source": [
    "import geopandas as gpd\n",
    "\n",
    "# Load NYC zip code shapefile or GeoJSON\n",
    "nyc_zip_shapefile = gpd.read_file(\"nyc-zip-code-tabulation-areas-polygons.geojson\")  # or .shp\n",
    "nyc_zip_shapefile['dropoff_zipcode'] = nyc_zip_shapefile['postalCode'].astype(float)  # match dtype\n",
    "\n",
    "# Merge with your demographic_summary\n",
    "gdf = nyc_zip_shapefile.merge(demographic_summary, on='dropoff_zipcode', how='left')\n"
   ]
  },
  {
   "cell_type": "code",
   "execution_count": null,
   "metadata": {},
   "outputs": [],
   "source": [
    "fig, ax = plt.subplots(figsize=(10, 10))\n",
    "gdf.plot(column='avg_fare', ax=ax, legend=True, cmap='OrRd', edgecolor='black')\n",
    "ax.set_title(\"Average Fare by Dropoff Zipcode (NYC)\", fontsize=14)\n",
    "ax.axis('off')\n",
    "plt.tight_layout()\n",
    "plt.show()\n"
   ]
  },
  {
   "cell_type": "code",
   "execution_count": null,
   "metadata": {},
   "outputs": [],
   "source": [
    "fig, ax = plt.subplots(figsize=(10, 10))\n",
    "gdf.plot(\n",
    "    column='poverty_rate',\n",
    "    ax=ax,\n",
    "    legend=True,\n",
    "    cmap='Purples',\n",
    "    edgecolor='black',\n",
    "    missing_kwds={'color': 'lightgrey', 'label': 'No Data'}\n",
    ")\n",
    "\n",
    "ax.set_title(\"Poverty Rate by Dropoff Zipcode (NYC)\", fontsize=14)\n",
    "ax.axis('off')\n",
    "plt.tight_layout()\n",
    "plt.show()\n"
   ]
  },
  {
   "cell_type": "code",
   "execution_count": null,
   "metadata": {},
   "outputs": [],
   "source": [
    "def get_majority_race(row):\n",
    "    race_vals = {\n",
    "        'White': row['white_pct'],\n",
    "        'Black': row['black_pct'],\n",
    "        'Asian': row['asian_pct'],\n",
    "        'Other': row['other_pct']\n",
    "    }\n",
    "    return max(race_vals, key=race_vals.get)\n",
    "\n",
    "gdf['majority_race'] = gdf.apply(get_majority_race, axis=1)\n",
    "\n",
    "# Define a color map\n",
    "race_colors = {\n",
    "    'White': '#f0e442',\n",
    "    'Black': '#0072b2',\n",
    "    'Asian': '#009e73',\n",
    "    'Other': '#d55e00'\n",
    "}\n",
    "\n",
    "# Plot\n",
    "fig, ax = plt.subplots(figsize=(10, 10))\n",
    "gdf.plot(\n",
    "    column='majority_race',\n",
    "    ax=ax,\n",
    "    legend=True,\n",
    "    cmap=plt.matplotlib.colors.ListedColormap([race_colors[r] for r in race_colors]),\n",
    "    edgecolor='black',\n",
    "    linewidth=0.5,\n",
    "    missing_kwds={'color': 'lightgrey', 'label': 'No Data'}\n",
    ")\n",
    "\n",
    "# Create a custom legend\n",
    "import matplotlib.patches as mpatches\n",
    "handles = [mpatches.Patch(color=color, label=label) for label, color in race_colors.items()]\n",
    "ax.legend(handles=handles, title=\"Majority Race\", loc='lower left')\n",
    "\n",
    "ax.set_title(\"Majority Race by Zipcode (NYC)\", fontsize=14)\n",
    "ax.axis('off')\n",
    "plt.tight_layout()\n",
    "plt.show()"
   ]
  },
  {
   "cell_type": "markdown",
   "metadata": {},
   "source": []
  }
 ],
 "metadata": {
  "kernelspec": {
   "display_name": "Python 3",
   "language": "python",
   "name": "python3"
  },
  "language_info": {
   "codemirror_mode": {
    "name": "ipython",
    "version": 3
   },
   "file_extension": ".py",
   "mimetype": "text/x-python",
   "name": "python",
   "nbconvert_exporter": "python",
   "pygments_lexer": "ipython3",
   "version": "3.13.1"
  }
 },
 "nbformat": 4,
 "nbformat_minor": 2
}
